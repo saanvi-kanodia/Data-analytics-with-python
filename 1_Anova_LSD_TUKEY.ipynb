{
 "cells": [
  {
   "cell_type": "code",
   "execution_count": 11,
   "metadata": {},
   "outputs": [],
   "source": [
    "import pandas as pd\n",
    "import numpy as np\n",
    "import scipy\n",
    "from scipy import stats\n",
    "import math\n",
    "import statsmodels.api as sm\n",
    "from statsmodels.formula.api import ols #ordinary least square method\n",
    "from matplotlib import pyplot as plt"
   ]
  },
  {
   "cell_type": "code",
   "execution_count": 9,
   "metadata": {},
   "outputs": [],
   "source": [
    "data = pd.read_excel('oneway.xlsx')"
   ]
  },
  {
   "cell_type": "code",
   "execution_count": 3,
   "metadata": {},
   "outputs": [
    {
     "data": {
      "text/html": [
       "<div>\n",
       "<style scoped>\n",
       "    .dataframe tbody tr th:only-of-type {\n",
       "        vertical-align: middle;\n",
       "    }\n",
       "\n",
       "    .dataframe tbody tr th {\n",
       "        vertical-align: top;\n",
       "    }\n",
       "\n",
       "    .dataframe thead th {\n",
       "        text-align: right;\n",
       "    }\n",
       "</style>\n",
       "<table border=\"1\" class=\"dataframe\">\n",
       "  <thead>\n",
       "    <tr style=\"text-align: right;\">\n",
       "      <th></th>\n",
       "      <th>Teaching Method1</th>\n",
       "      <th>Teaching Method2</th>\n",
       "      <th>Teaching Method3</th>\n",
       "    </tr>\n",
       "  </thead>\n",
       "  <tbody>\n",
       "    <tr>\n",
       "      <th>0</th>\n",
       "      <td>4</td>\n",
       "      <td>2</td>\n",
       "      <td>2</td>\n",
       "    </tr>\n",
       "    <tr>\n",
       "      <th>1</th>\n",
       "      <td>3</td>\n",
       "      <td>4</td>\n",
       "      <td>1</td>\n",
       "    </tr>\n",
       "    <tr>\n",
       "      <th>2</th>\n",
       "      <td>2</td>\n",
       "      <td>6</td>\n",
       "      <td>3</td>\n",
       "    </tr>\n",
       "  </tbody>\n",
       "</table>\n",
       "</div>"
      ],
      "text/plain": [
       "   Teaching Method1  Teaching Method2  Teaching Method3\n",
       "0                 4                 2                 2\n",
       "1                 3                 4                 1\n",
       "2                 2                 6                 3"
      ]
     },
     "execution_count": 3,
     "metadata": {},
     "output_type": "execute_result"
    }
   ],
   "source": [
    "data"
   ]
  },
  {
   "cell_type": "code",
   "execution_count": null,
   "metadata": {},
   "outputs": [
    {
     "data": {
      "text/html": [
       "<div>\n",
       "<style scoped>\n",
       "    .dataframe tbody tr th:only-of-type {\n",
       "        vertical-align: middle;\n",
       "    }\n",
       "\n",
       "    .dataframe tbody tr th {\n",
       "        vertical-align: top;\n",
       "    }\n",
       "\n",
       "    .dataframe thead th {\n",
       "        text-align: right;\n",
       "    }\n",
       "</style>\n",
       "<table border=\"1\" class=\"dataframe\">\n",
       "  <thead>\n",
       "    <tr style=\"text-align: right;\">\n",
       "      <th></th>\n",
       "      <th>index</th>\n",
       "      <th>Treatments</th>\n",
       "      <th>Value</th>\n",
       "    </tr>\n",
       "  </thead>\n",
       "  <tbody>\n",
       "    <tr>\n",
       "      <th>0</th>\n",
       "      <td>0</td>\n",
       "      <td>Teaching Method1</td>\n",
       "      <td>4</td>\n",
       "    </tr>\n",
       "    <tr>\n",
       "      <th>1</th>\n",
       "      <td>1</td>\n",
       "      <td>Teaching Method1</td>\n",
       "      <td>3</td>\n",
       "    </tr>\n",
       "    <tr>\n",
       "      <th>2</th>\n",
       "      <td>2</td>\n",
       "      <td>Teaching Method1</td>\n",
       "      <td>2</td>\n",
       "    </tr>\n",
       "    <tr>\n",
       "      <th>3</th>\n",
       "      <td>0</td>\n",
       "      <td>Teaching Method2</td>\n",
       "      <td>2</td>\n",
       "    </tr>\n",
       "    <tr>\n",
       "      <th>4</th>\n",
       "      <td>1</td>\n",
       "      <td>Teaching Method2</td>\n",
       "      <td>4</td>\n",
       "    </tr>\n",
       "    <tr>\n",
       "      <th>5</th>\n",
       "      <td>2</td>\n",
       "      <td>Teaching Method2</td>\n",
       "      <td>6</td>\n",
       "    </tr>\n",
       "    <tr>\n",
       "      <th>6</th>\n",
       "      <td>0</td>\n",
       "      <td>Teaching Method3</td>\n",
       "      <td>2</td>\n",
       "    </tr>\n",
       "    <tr>\n",
       "      <th>7</th>\n",
       "      <td>1</td>\n",
       "      <td>Teaching Method3</td>\n",
       "      <td>1</td>\n",
       "    </tr>\n",
       "    <tr>\n",
       "      <th>8</th>\n",
       "      <td>2</td>\n",
       "      <td>Teaching Method3</td>\n",
       "      <td>3</td>\n",
       "    </tr>\n",
       "  </tbody>\n",
       "</table>\n",
       "</div>"
      ],
      "text/plain": [
       "   index        Treatments  Value\n",
       "0      0  Teaching Method1      4\n",
       "1      1  Teaching Method1      3\n",
       "2      2  Teaching Method1      2\n",
       "3      0  Teaching Method2      2\n",
       "4      1  Teaching Method2      4\n",
       "5      2  Teaching Method2      6\n",
       "6      0  Teaching Method3      2\n",
       "7      1  Teaching Method3      1\n",
       "8      2  Teaching Method3      3"
      ]
     },
     "execution_count": 4,
     "metadata": {},
     "output_type": "execute_result"
    }
   ],
   "source": [
    "data_new = pd.melt(data.reset_index(),id_vars=['index'], value_vars=['Teaching Method1','Teaching Method2','Teaching Method3'])\n",
    "data_new.columns=['index', 'Treatments', 'Value']\n",
    "data_new\n",
    "#melt to flatten the table\n",
    "#reset index will reset whatever pre-existing index is there\n",
    "#idvars will make uqiue id coumn\n",
    "#value vars make the attributes columns"
   ]
  },
  {
   "cell_type": "code",
   "execution_count": 5,
   "metadata": {},
   "outputs": [],
   "source": [
    "model = ols('Value ~ C(Treatments)', data = data_new).fit()"
   ]
  },
  {
   "cell_type": "code",
   "execution_count": 22,
   "metadata": {},
   "outputs": [],
   "source": [
    "anova_table = sm.stats.anova_lm(model, type =1)"
   ]
  },
  {
   "cell_type": "code",
   "execution_count": 23,
   "metadata": {},
   "outputs": [
    {
     "data": {
      "text/html": [
       "<div>\n",
       "<style scoped>\n",
       "    .dataframe tbody tr th:only-of-type {\n",
       "        vertical-align: middle;\n",
       "    }\n",
       "\n",
       "    .dataframe tbody tr th {\n",
       "        vertical-align: top;\n",
       "    }\n",
       "\n",
       "    .dataframe thead th {\n",
       "        text-align: right;\n",
       "    }\n",
       "</style>\n",
       "<table border=\"1\" class=\"dataframe\">\n",
       "  <thead>\n",
       "    <tr style=\"text-align: right;\">\n",
       "      <th></th>\n",
       "      <th>df</th>\n",
       "      <th>sum_sq</th>\n",
       "      <th>mean_sq</th>\n",
       "      <th>F</th>\n",
       "      <th>PR(&gt;F)</th>\n",
       "    </tr>\n",
       "  </thead>\n",
       "  <tbody>\n",
       "    <tr>\n",
       "      <th>C(Treatments)</th>\n",
       "      <td>2.0</td>\n",
       "      <td>6.0</td>\n",
       "      <td>3.0</td>\n",
       "      <td>1.5</td>\n",
       "      <td>0.296296</td>\n",
       "    </tr>\n",
       "    <tr>\n",
       "      <th>Residual</th>\n",
       "      <td>6.0</td>\n",
       "      <td>12.0</td>\n",
       "      <td>2.0</td>\n",
       "      <td>NaN</td>\n",
       "      <td>NaN</td>\n",
       "    </tr>\n",
       "  </tbody>\n",
       "</table>\n",
       "</div>"
      ],
      "text/plain": [
       "                df  sum_sq  mean_sq    F    PR(>F)\n",
       "C(Treatments)  2.0     6.0      3.0  1.5  0.296296\n",
       "Residual       6.0    12.0      2.0  NaN       NaN"
      ]
     },
     "execution_count": 23,
     "metadata": {},
     "output_type": "execute_result"
    }
   ],
   "source": [
    "anova_table"
   ]
  },
  {
   "attachments": {
    "image.png": {
     "image/png": "[encoded data removed]"
    }
   },
   "cell_type": "markdown",
   "metadata": {},
   "source": [
    "![image.png](attachment:image.png)\n",
    "\n",
    "![Alt text](image.png)"
   ]
  },
  {
   "cell_type": "code",
   "execution_count": 6,
   "metadata": {},
   "outputs": [
    {
     "data": {
      "text/plain": [
       "<function matplotlib.pyplot.show(close=None, block=None)>"
      ]
     },
     "execution_count": 6,
     "metadata": {},
     "output_type": "execute_result"
    },
    {
     "data": {
      "image/png": "[encoded data removed]",
      "text/plain": [
       "<Figure size 640x480 with 1 Axes>"
      ]
     },
     "metadata": {},
     "output_type": "display_data"
    }
   ],
   "source": [
    "#first we plot use box-whisker plot\n",
    "fivepercent = [7, 8, 15, 11, 9, 10]\n",
    "tenpercent = [12, 17, 13, 18, 19, 15]\n",
    "fifteenpercent = [14, 18, 19, 17, 16, 18]\n",
    "twentypercent = [19, 25, 22, 23, 18, 20]\n",
    "\n",
    "box_plot_data=[fivepercent,tenpercent, fifteenpercent, twentypercent]\n",
    "plt.boxplot(box_plot_data)\n",
    "plt.show"
   ]
  },
  {
   "cell_type": "code",
   "execution_count": 7,
   "metadata": {},
   "outputs": [
    {
     "data": {
      "text/plain": [
       "F_onewayResult(statistic=np.float64(19.605206999573184), pvalue=np.float64(3.5925782584743027e-06))"
      ]
     },
     "execution_count": 7,
     "metadata": {},
     "output_type": "execute_result"
    }
   ],
   "source": [
    "scipy.stats.f_oneway(fivepercent, tenpercent, fifteenpercent, twentypercent)"
   ]
  },
  {
   "cell_type": "code",
   "execution_count": 12,
   "metadata": {},
   "outputs": [
    {
     "data": {
      "text/html": [
       "<div>\n",
       "<style scoped>\n",
       "    .dataframe tbody tr th:only-of-type {\n",
       "        vertical-align: middle;\n",
       "    }\n",
       "\n",
       "    .dataframe tbody tr th {\n",
       "        vertical-align: top;\n",
       "    }\n",
       "\n",
       "    .dataframe thead th {\n",
       "        text-align: right;\n",
       "    }\n",
       "</style>\n",
       "<table border=\"1\" class=\"dataframe\">\n",
       "  <thead>\n",
       "    <tr style=\"text-align: right;\">\n",
       "      <th></th>\n",
       "      <th>hardwood concentration 5%</th>\n",
       "      <th>hardwood concentration 10%</th>\n",
       "      <th>hardwood concentration 15%</th>\n",
       "      <th>hardwood concentration 20%</th>\n",
       "    </tr>\n",
       "  </thead>\n",
       "  <tbody>\n",
       "    <tr>\n",
       "      <th>0</th>\n",
       "      <td>7</td>\n",
       "      <td>12</td>\n",
       "      <td>14</td>\n",
       "      <td>19</td>\n",
       "    </tr>\n",
       "    <tr>\n",
       "      <th>1</th>\n",
       "      <td>8</td>\n",
       "      <td>17</td>\n",
       "      <td>18</td>\n",
       "      <td>25</td>\n",
       "    </tr>\n",
       "    <tr>\n",
       "      <th>2</th>\n",
       "      <td>15</td>\n",
       "      <td>13</td>\n",
       "      <td>19</td>\n",
       "      <td>22</td>\n",
       "    </tr>\n",
       "    <tr>\n",
       "      <th>3</th>\n",
       "      <td>11</td>\n",
       "      <td>18</td>\n",
       "      <td>17</td>\n",
       "      <td>23</td>\n",
       "    </tr>\n",
       "    <tr>\n",
       "      <th>4</th>\n",
       "      <td>9</td>\n",
       "      <td>19</td>\n",
       "      <td>16</td>\n",
       "      <td>18</td>\n",
       "    </tr>\n",
       "    <tr>\n",
       "      <th>5</th>\n",
       "      <td>10</td>\n",
       "      <td>15</td>\n",
       "      <td>18</td>\n",
       "      <td>20</td>\n",
       "    </tr>\n",
       "  </tbody>\n",
       "</table>\n",
       "</div>"
      ],
      "text/plain": [
       "   hardwood concentration 5%  hardwood concentration 10%  \\\n",
       "0                          7                          12   \n",
       "1                          8                          17   \n",
       "2                         15                          13   \n",
       "3                         11                          18   \n",
       "4                          9                          19   \n",
       "5                         10                          15   \n",
       "\n",
       "   hardwood concentration 15%  hardwood concentration 20%  \n",
       "0                          14                          19  \n",
       "1                          18                          25  \n",
       "2                          19                          22  \n",
       "3                          17                          23  \n",
       "4                          16                          18  \n",
       "5                          18                          20  "
      ]
     },
     "execution_count": 12,
     "metadata": {},
     "output_type": "execute_result"
    }
   ],
   "source": [
    "df = pd.read_excel(\"./Tensile strength of paper.xlsx\")\n",
    "df"
   ]
  },
  {
   "cell_type": "code",
   "execution_count": 13,
   "metadata": {},
   "outputs": [
    {
     "data": {
      "text/html": [
       "<div>\n",
       "<style scoped>\n",
       "    .dataframe tbody tr th:only-of-type {\n",
       "        vertical-align: middle;\n",
       "    }\n",
       "\n",
       "    .dataframe tbody tr th {\n",
       "        vertical-align: top;\n",
       "    }\n",
       "\n",
       "    .dataframe thead th {\n",
       "        text-align: right;\n",
       "    }\n",
       "</style>\n",
       "<table border=\"1\" class=\"dataframe\">\n",
       "  <thead>\n",
       "    <tr style=\"text-align: right;\">\n",
       "      <th></th>\n",
       "      <th>Index</th>\n",
       "      <th>Treatments</th>\n",
       "      <th>Values</th>\n",
       "    </tr>\n",
       "  </thead>\n",
       "  <tbody>\n",
       "    <tr>\n",
       "      <th>0</th>\n",
       "      <td>0</td>\n",
       "      <td>hardwood concentration 5%</td>\n",
       "      <td>7</td>\n",
       "    </tr>\n",
       "    <tr>\n",
       "      <th>1</th>\n",
       "      <td>1</td>\n",
       "      <td>hardwood concentration 5%</td>\n",
       "      <td>8</td>\n",
       "    </tr>\n",
       "    <tr>\n",
       "      <th>2</th>\n",
       "      <td>2</td>\n",
       "      <td>hardwood concentration 5%</td>\n",
       "      <td>15</td>\n",
       "    </tr>\n",
       "    <tr>\n",
       "      <th>3</th>\n",
       "      <td>3</td>\n",
       "      <td>hardwood concentration 5%</td>\n",
       "      <td>11</td>\n",
       "    </tr>\n",
       "    <tr>\n",
       "      <th>4</th>\n",
       "      <td>4</td>\n",
       "      <td>hardwood concentration 5%</td>\n",
       "      <td>9</td>\n",
       "    </tr>\n",
       "    <tr>\n",
       "      <th>5</th>\n",
       "      <td>5</td>\n",
       "      <td>hardwood concentration 5%</td>\n",
       "      <td>10</td>\n",
       "    </tr>\n",
       "    <tr>\n",
       "      <th>6</th>\n",
       "      <td>0</td>\n",
       "      <td>hardwood concentration 10%</td>\n",
       "      <td>12</td>\n",
       "    </tr>\n",
       "    <tr>\n",
       "      <th>7</th>\n",
       "      <td>1</td>\n",
       "      <td>hardwood concentration 10%</td>\n",
       "      <td>17</td>\n",
       "    </tr>\n",
       "    <tr>\n",
       "      <th>8</th>\n",
       "      <td>2</td>\n",
       "      <td>hardwood concentration 10%</td>\n",
       "      <td>13</td>\n",
       "    </tr>\n",
       "    <tr>\n",
       "      <th>9</th>\n",
       "      <td>3</td>\n",
       "      <td>hardwood concentration 10%</td>\n",
       "      <td>18</td>\n",
       "    </tr>\n",
       "    <tr>\n",
       "      <th>10</th>\n",
       "      <td>4</td>\n",
       "      <td>hardwood concentration 10%</td>\n",
       "      <td>19</td>\n",
       "    </tr>\n",
       "    <tr>\n",
       "      <th>11</th>\n",
       "      <td>5</td>\n",
       "      <td>hardwood concentration 10%</td>\n",
       "      <td>15</td>\n",
       "    </tr>\n",
       "    <tr>\n",
       "      <th>12</th>\n",
       "      <td>0</td>\n",
       "      <td>hardwood concentration 15%</td>\n",
       "      <td>14</td>\n",
       "    </tr>\n",
       "    <tr>\n",
       "      <th>13</th>\n",
       "      <td>1</td>\n",
       "      <td>hardwood concentration 15%</td>\n",
       "      <td>18</td>\n",
       "    </tr>\n",
       "    <tr>\n",
       "      <th>14</th>\n",
       "      <td>2</td>\n",
       "      <td>hardwood concentration 15%</td>\n",
       "      <td>19</td>\n",
       "    </tr>\n",
       "    <tr>\n",
       "      <th>15</th>\n",
       "      <td>3</td>\n",
       "      <td>hardwood concentration 15%</td>\n",
       "      <td>17</td>\n",
       "    </tr>\n",
       "    <tr>\n",
       "      <th>16</th>\n",
       "      <td>4</td>\n",
       "      <td>hardwood concentration 15%</td>\n",
       "      <td>16</td>\n",
       "    </tr>\n",
       "    <tr>\n",
       "      <th>17</th>\n",
       "      <td>5</td>\n",
       "      <td>hardwood concentration 15%</td>\n",
       "      <td>18</td>\n",
       "    </tr>\n",
       "    <tr>\n",
       "      <th>18</th>\n",
       "      <td>0</td>\n",
       "      <td>hardwood concentration 20%</td>\n",
       "      <td>19</td>\n",
       "    </tr>\n",
       "    <tr>\n",
       "      <th>19</th>\n",
       "      <td>1</td>\n",
       "      <td>hardwood concentration 20%</td>\n",
       "      <td>25</td>\n",
       "    </tr>\n",
       "    <tr>\n",
       "      <th>20</th>\n",
       "      <td>2</td>\n",
       "      <td>hardwood concentration 20%</td>\n",
       "      <td>22</td>\n",
       "    </tr>\n",
       "    <tr>\n",
       "      <th>21</th>\n",
       "      <td>3</td>\n",
       "      <td>hardwood concentration 20%</td>\n",
       "      <td>23</td>\n",
       "    </tr>\n",
       "    <tr>\n",
       "      <th>22</th>\n",
       "      <td>4</td>\n",
       "      <td>hardwood concentration 20%</td>\n",
       "      <td>18</td>\n",
       "    </tr>\n",
       "    <tr>\n",
       "      <th>23</th>\n",
       "      <td>5</td>\n",
       "      <td>hardwood concentration 20%</td>\n",
       "      <td>20</td>\n",
       "    </tr>\n",
       "  </tbody>\n",
       "</table>\n",
       "</div>"
      ],
      "text/plain": [
       "    Index                  Treatments  Values\n",
       "0       0   hardwood concentration 5%       7\n",
       "1       1   hardwood concentration 5%       8\n",
       "2       2   hardwood concentration 5%      15\n",
       "3       3   hardwood concentration 5%      11\n",
       "4       4   hardwood concentration 5%       9\n",
       "5       5   hardwood concentration 5%      10\n",
       "6       0  hardwood concentration 10%      12\n",
       "7       1  hardwood concentration 10%      17\n",
       "8       2  hardwood concentration 10%      13\n",
       "9       3  hardwood concentration 10%      18\n",
       "10      4  hardwood concentration 10%      19\n",
       "11      5  hardwood concentration 10%      15\n",
       "12      0  hardwood concentration 15%      14\n",
       "13      1  hardwood concentration 15%      18\n",
       "14      2  hardwood concentration 15%      19\n",
       "15      3  hardwood concentration 15%      17\n",
       "16      4  hardwood concentration 15%      16\n",
       "17      5  hardwood concentration 15%      18\n",
       "18      0  hardwood concentration 20%      19\n",
       "19      1  hardwood concentration 20%      25\n",
       "20      2  hardwood concentration 20%      22\n",
       "21      3  hardwood concentration 20%      23\n",
       "22      4  hardwood concentration 20%      18\n",
       "23      5  hardwood concentration 20%      20"
      ]
     },
     "execution_count": 13,
     "metadata": {},
     "output_type": "execute_result"
    }
   ],
   "source": [
    "dfnew=pd.melt(df.reset_index(), id_vars=['index'],value_vars=['hardwood concentration 5%','hardwood concentration 10%','hardwood concentration 15%', 'hardwood concentration 20%'])\n",
    "dfnew.columns=['Index', 'Treatments', 'Values']\n",
    "dfnew"
   ]
  },
  {
   "cell_type": "code",
   "execution_count": 14,
   "metadata": {},
   "outputs": [
    {
     "data": {
      "text/html": [
       "<div>\n",
       "<style scoped>\n",
       "    .dataframe tbody tr th:only-of-type {\n",
       "        vertical-align: middle;\n",
       "    }\n",
       "\n",
       "    .dataframe tbody tr th {\n",
       "        vertical-align: top;\n",
       "    }\n",
       "\n",
       "    .dataframe thead th {\n",
       "        text-align: right;\n",
       "    }\n",
       "</style>\n",
       "<table border=\"1\" class=\"dataframe\">\n",
       "  <thead>\n",
       "    <tr style=\"text-align: right;\">\n",
       "      <th></th>\n",
       "      <th>df</th>\n",
       "      <th>sum_sq</th>\n",
       "      <th>mean_sq</th>\n",
       "      <th>F</th>\n",
       "      <th>PR(&gt;F)</th>\n",
       "    </tr>\n",
       "  </thead>\n",
       "  <tbody>\n",
       "    <tr>\n",
       "      <th>C(Treatments)</th>\n",
       "      <td>3.0</td>\n",
       "      <td>382.791667</td>\n",
       "      <td>127.597222</td>\n",
       "      <td>19.605207</td>\n",
       "      <td>0.000004</td>\n",
       "    </tr>\n",
       "    <tr>\n",
       "      <th>Residual</th>\n",
       "      <td>20.0</td>\n",
       "      <td>130.166667</td>\n",
       "      <td>6.508333</td>\n",
       "      <td>NaN</td>\n",
       "      <td>NaN</td>\n",
       "    </tr>\n",
       "  </tbody>\n",
       "</table>\n",
       "</div>"
      ],
      "text/plain": [
       "                 df      sum_sq     mean_sq          F    PR(>F)\n",
       "C(Treatments)   3.0  382.791667  127.597222  19.605207  0.000004\n",
       "Residual       20.0  130.166667    6.508333        NaN       NaN"
      ]
     },
     "execution_count": 14,
     "metadata": {},
     "output_type": "execute_result"
    }
   ],
   "source": [
    "model=ols(\"Values ~ C(Treatments)\",data=dfnew).fit()\n",
    "anova_t=sm.stats.anova_lm(model, type=1)\n",
    "anova_t"
   ]
  },
  {
   "cell_type": "markdown",
   "metadata": {},
   "source": [
    "## LSD - Least significant Difference\n",
    "The least different that if exceeded by the difference in pair's means, means that the pair means are different"
   ]
  },
  {
   "cell_type": "code",
   "execution_count": 15,
   "metadata": {},
   "outputs": [
    {
     "name": "stdout",
     "output_type": "stream",
     "text": [
      "3.070455057025458\n"
     ]
    }
   ],
   "source": [
    "t= -1 * scipy.stats.t.ppf(0.025, 20) #t value should be positive\n",
    "n=6 # number of obs\n",
    "MSE=6.50\n",
    "lsd=t*math.sqrt(2*MSE/n)\n",
    "print(lsd)"
   ]
  },
  {
   "cell_type": "markdown",
   "metadata": {},
   "source": [
    "## Tukey's test (Post Hoc Analysis)"
   ]
  },
  {
   "cell_type": "code",
   "execution_count": 16,
   "metadata": {},
   "outputs": [
    {
     "data": {
      "text/html": [
       "<table class=\"simpletable\">\n",
       "<caption>Multiple Comparison of Means - Tukey HSD, FWER=0.05</caption>\n",
       "<tr>\n",
       "            <th>group1</th>                     <th>group2</th>           <th>meandiff</th>  <th>p-adj</th>   <th>lower</th>   <th>upper</th>  <th>reject</th>\n",
       "</tr>\n",
       "<tr>\n",
       "  <td>hardwood concentration 10%</td> <td>hardwood concentration 15%</td>  <td>1.3333</td>  <td>0.8022</td>  <td>-2.7892</td> <td>5.4559</td>   <td>False</td>\n",
       "</tr>\n",
       "<tr>\n",
       "  <td>hardwood concentration 10%</td> <td>hardwood concentration 20%</td>    <td>5.5</td>   <td>0.0066</td>  <td>1.3774</td>  <td>9.6226</td>   <td>True</td> \n",
       "</tr>\n",
       "<tr>\n",
       "  <td>hardwood concentration 10%</td>  <td>hardwood concentration 5%</td>  <td>-5.6667</td> <td>0.0051</td>  <td>-9.7892</td> <td>-1.5441</td>  <td>True</td> \n",
       "</tr>\n",
       "<tr>\n",
       "  <td>hardwood concentration 15%</td> <td>hardwood concentration 20%</td>  <td>4.1667</td>   <td>0.047</td>  <td>0.0441</td>  <td>8.2892</td>   <td>True</td> \n",
       "</tr>\n",
       "<tr>\n",
       "  <td>hardwood concentration 15%</td>  <td>hardwood concentration 5%</td>   <td>-7.0</td>   <td>0.0007</td> <td>-11.1226</td> <td>-2.8774</td>  <td>True</td> \n",
       "</tr>\n",
       "<tr>\n",
       "  <td>hardwood concentration 20%</td>  <td>hardwood concentration 5%</td> <td>-11.1667</td>   <td>0.0</td>  <td>-15.2892</td> <td>-7.0441</td>  <td>True</td> \n",
       "</tr>\n",
       "</table>"
      ],
      "text/latex": [
       "\\begin{center}\n",
       "\\begin{tabular}{ccccccc}\n",
       "\\toprule\n",
       "      \\textbf{group1}       &       \\textbf{group2}       & \\textbf{meandiff} & \\textbf{p-adj} & \\textbf{lower} & \\textbf{upper} & \\textbf{reject}  \\\\\n",
       "\\midrule\n",
       "hardwood concentration 10\\% & hardwood concentration 15\\% &       1.3333      &     0.8022     &    -2.7892     &     5.4559     &      False       \\\\\n",
       "hardwood concentration 10\\% & hardwood concentration 20\\% &        5.5        &     0.0066     &     1.3774     &     9.6226     &       True       \\\\\n",
       "hardwood concentration 10\\% &  hardwood concentration 5\\% &      -5.6667      &     0.0051     &    -9.7892     &    -1.5441     &       True       \\\\\n",
       "hardwood concentration 15\\% & hardwood concentration 20\\% &       4.1667      &     0.047      &     0.0441     &     8.2892     &       True       \\\\\n",
       "hardwood concentration 15\\% &  hardwood concentration 5\\% &        -7.0       &     0.0007     &    -11.1226    &    -2.8774     &       True       \\\\\n",
       "hardwood concentration 20\\% &  hardwood concentration 5\\% &      -11.1667     &      0.0       &    -15.2892    &    -7.0441     &       True       \\\\\n",
       "\\bottomrule\n",
       "\\end{tabular}\n",
       "%\\caption{Multiple Comparison of Means - Tukey HSD, FWER=0.05}\n",
       "\\end{center}"
      ],
      "text/plain": [
       "<class 'statsmodels.iolib.table.SimpleTable'>"
      ]
     },
     "execution_count": 16,
     "metadata": {},
     "output_type": "execute_result"
    }
   ],
   "source": [
    "from statsmodels.stats.multicomp import pairwise_tukeyhsd\n",
    "from statsmodels.stats.multicomp import MultiComparison\n",
    "mc = MultiComparison(dfnew['Values'], dfnew['Treatments'])\n",
    "mcresult = mc.tukeyhsd(0.05)\n",
    "mcresult.summary()"
   ]
  },
  {
   "cell_type": "code",
   "execution_count": 17,
   "metadata": {},
   "outputs": [
    {
     "data": {
      "text/html": [
       "<div>\n",
       "<style scoped>\n",
       "    .dataframe tbody tr th:only-of-type {\n",
       "        vertical-align: middle;\n",
       "    }\n",
       "\n",
       "    .dataframe tbody tr th {\n",
       "        vertical-align: top;\n",
       "    }\n",
       "\n",
       "    .dataframe thead th {\n",
       "        text-align: right;\n",
       "    }\n",
       "</style>\n",
       "<table border=\"1\" class=\"dataframe\">\n",
       "  <thead>\n",
       "    <tr style=\"text-align: right;\">\n",
       "      <th></th>\n",
       "      <th>cotwt.15</th>\n",
       "      <th>cotwt.20</th>\n",
       "      <th>cotwt.25</th>\n",
       "      <th>cotwt.30</th>\n",
       "      <th>cotwt.35</th>\n",
       "    </tr>\n",
       "  </thead>\n",
       "  <tbody>\n",
       "    <tr>\n",
       "      <th>0</th>\n",
       "      <td>7</td>\n",
       "      <td>12</td>\n",
       "      <td>14</td>\n",
       "      <td>19</td>\n",
       "      <td>7</td>\n",
       "    </tr>\n",
       "    <tr>\n",
       "      <th>1</th>\n",
       "      <td>7</td>\n",
       "      <td>17</td>\n",
       "      <td>18</td>\n",
       "      <td>25</td>\n",
       "      <td>10</td>\n",
       "    </tr>\n",
       "    <tr>\n",
       "      <th>2</th>\n",
       "      <td>15</td>\n",
       "      <td>12</td>\n",
       "      <td>18</td>\n",
       "      <td>22</td>\n",
       "      <td>11</td>\n",
       "    </tr>\n",
       "    <tr>\n",
       "      <th>3</th>\n",
       "      <td>11</td>\n",
       "      <td>18</td>\n",
       "      <td>19</td>\n",
       "      <td>19</td>\n",
       "      <td>15</td>\n",
       "    </tr>\n",
       "    <tr>\n",
       "      <th>4</th>\n",
       "      <td>9</td>\n",
       "      <td>18</td>\n",
       "      <td>19</td>\n",
       "      <td>23</td>\n",
       "      <td>11</td>\n",
       "    </tr>\n",
       "  </tbody>\n",
       "</table>\n",
       "</div>"
      ],
      "text/plain": [
       "   cotwt.15  cotwt.20  cotwt.25  cotwt.30  cotwt.35\n",
       "0         7        12        14        19         7\n",
       "1         7        17        18        25        10\n",
       "2        15        12        18        22        11\n",
       "3        11        18        19        19        15\n",
       "4         9        18        19        23        11"
      ]
     },
     "execution_count": 17,
     "metadata": {},
     "output_type": "execute_result"
    }
   ],
   "source": [
    "data1 = pd.read_excel(\"./cotton weight.xlsx\")\n",
    "data1"
   ]
  },
  {
   "cell_type": "code",
   "execution_count": 19,
   "metadata": {},
   "outputs": [
    {
     "data": {
      "text/html": [
       "<table class=\"simpletable\">\n",
       "<caption>Multiple Comparison of Means - Tukey HSD, FWER=0.05</caption>\n",
       "<tr>\n",
       "            <th>group1</th>                     <th>group2</th>           <th>meandiff</th>  <th>p-adj</th>   <th>lower</th>   <th>upper</th>  <th>reject</th>\n",
       "</tr>\n",
       "<tr>\n",
       "  <td>hardwood concentration 10%</td> <td>hardwood concentration 15%</td>  <td>1.3333</td>  <td>0.8022</td>  <td>-2.7892</td> <td>5.4559</td>   <td>False</td>\n",
       "</tr>\n",
       "<tr>\n",
       "  <td>hardwood concentration 10%</td> <td>hardwood concentration 20%</td>    <td>5.5</td>   <td>0.0066</td>  <td>1.3774</td>  <td>9.6226</td>   <td>True</td> \n",
       "</tr>\n",
       "<tr>\n",
       "  <td>hardwood concentration 10%</td>  <td>hardwood concentration 5%</td>  <td>-5.6667</td> <td>0.0051</td>  <td>-9.7892</td> <td>-1.5441</td>  <td>True</td> \n",
       "</tr>\n",
       "<tr>\n",
       "  <td>hardwood concentration 15%</td> <td>hardwood concentration 20%</td>  <td>4.1667</td>   <td>0.047</td>  <td>0.0441</td>  <td>8.2892</td>   <td>True</td> \n",
       "</tr>\n",
       "<tr>\n",
       "  <td>hardwood concentration 15%</td>  <td>hardwood concentration 5%</td>   <td>-7.0</td>   <td>0.0007</td> <td>-11.1226</td> <td>-2.8774</td>  <td>True</td> \n",
       "</tr>\n",
       "<tr>\n",
       "  <td>hardwood concentration 20%</td>  <td>hardwood concentration 5%</td> <td>-11.1667</td>   <td>0.0</td>  <td>-15.2892</td> <td>-7.0441</td>  <td>True</td> \n",
       "</tr>\n",
       "</table>"
      ],
      "text/latex": [
       "\\begin{center}\n",
       "\\begin{tabular}{ccccccc}\n",
       "\\toprule\n",
       "      \\textbf{group1}       &       \\textbf{group2}       & \\textbf{meandiff} & \\textbf{p-adj} & \\textbf{lower} & \\textbf{upper} & \\textbf{reject}  \\\\\n",
       "\\midrule\n",
       "hardwood concentration 10\\% & hardwood concentration 15\\% &       1.3333      &     0.8022     &    -2.7892     &     5.4559     &      False       \\\\\n",
       "hardwood concentration 10\\% & hardwood concentration 20\\% &        5.5        &     0.0066     &     1.3774     &     9.6226     &       True       \\\\\n",
       "hardwood concentration 10\\% &  hardwood concentration 5\\% &      -5.6667      &     0.0051     &    -9.7892     &    -1.5441     &       True       \\\\\n",
       "hardwood concentration 15\\% & hardwood concentration 20\\% &       4.1667      &     0.047      &     0.0441     &     8.2892     &       True       \\\\\n",
       "hardwood concentration 15\\% &  hardwood concentration 5\\% &        -7.0       &     0.0007     &    -11.1226    &    -2.8774     &       True       \\\\\n",
       "hardwood concentration 20\\% &  hardwood concentration 5\\% &      -11.1667     &      0.0       &    -15.2892    &    -7.0441     &       True       \\\\\n",
       "\\bottomrule\n",
       "\\end{tabular}\n",
       "%\\caption{Multiple Comparison of Means - Tukey HSD, FWER=0.05}\n",
       "\\end{center}"
      ],
      "text/plain": [
       "<class 'statsmodels.iolib.table.SimpleTable'>"
      ]
     },
     "execution_count": 19,
     "metadata": {},
     "output_type": "execute_result"
    }
   ],
   "source": [
    "data2 = pd.melt(data1.reset_index(),id_vars=['index'], value_vars=['cotwt.15','cotwt.20','cotwt.25', 'cotwt.30', 'cotwt.35'])\n",
    "data2.columns=['id', 'treatment', 'value']\n",
    "\n",
    "mc1 = MultiComparison(data2['value'], data2['treatment'])\n",
    "mcresults = mc.tukeyhsd(0.05)\n",
    "mcresults.summary()"
   ]
  },
  {
   "cell_type": "code",
   "execution_count": null,
   "metadata": {},
   "outputs": [],
   "source": []
  }
 ],
 "metadata": {
  "kernelspec": {
   "display_name": "Python 3",
   "language": "python",
   "name": "python3"
  },
  "language_info": {
   "codemirror_mode": {
    "name": "ipython",
    "version": 3
   },
   "file_extension": ".py",
   "mimetype": "text/x-python",
   "name": "python",
   "nbconvert_exporter": "python",
   "pygments_lexer": "ipython3",
   "version": "3.12.1"
  },
  "orig_nbformat": 4
 },
 "nbformat": 4,
 "nbformat_minor": 2
}
