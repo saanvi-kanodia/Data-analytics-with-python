{
 "cells": [
  {
   "cell_type": "markdown",
   "metadata": {},
   "source": [
    "### T - Test - when STD_DEV is unknow\n",
    "* use : stats.ttest_1samp(x,mu) to find t value if you have sampple data\n",
    "* use : stats.t.cdf(t,dof) to find p value\n",
    "* use : sats.t.ppf(alpha , dof) to find t value"
   ]
  },
  {
   "cell_type": "code",
   "execution_count": 20,
   "metadata": {},
   "outputs": [],
   "source": [
    "from scipy import stats\n",
    "import numpy as np"
   ]
  },
  {
   "cell_type": "code",
   "execution_count": 25,
   "metadata": {},
   "outputs": [],
   "source": [
    "from scipy.stats import norm"
   ]
  },
  {
   "cell_type": "markdown",
   "metadata": {},
   "source": [
    "##### Pvalue approach"
   ]
  },
  {
   "cell_type": "code",
   "execution_count": 7,
   "metadata": {},
   "outputs": [
    {
     "name": "stdout",
     "output_type": "stream",
     "text": [
      "TtestResult(statistic=np.float64(1.5623450931857947), pvalue=np.float64(0.1621787560592894), df=np.int64(7))\n"
     ]
    }
   ],
   "source": [
    "x = [ 10, 12, 20, 21, 22, 24, 18, 15] #sample size\n",
    "mu = 15 # population mean\n",
    "a = 0.05 \n",
    "stats.ttest_1samp(x,mu) #calculating t statistic\n",
    "\n",
    "#reject H0 : if p_value <  a \n",
    "\n"
   ]
  },
  {
   "cell_type": "code",
   "execution_count": 29,
   "metadata": {},
   "outputs": [
    {
     "name": "stdout",
     "output_type": "stream",
     "text": [
      "TtestResult(statistic=np.float64(-0.358433858548785), pvalue=np.float64(0.7239703579964251), df=np.int64(19))\n",
      "We will not reject H0\n"
     ]
    }
   ],
   "source": [
    "n = 20 # number of icecreams days ice cream was sold for\n",
    "x1 = [13,8,10,10,8,9,10,11,6,8,12,11,11,12,10,12,7,10,11,8]\n",
    "#testing if the average icecream sold everyday is less or more than 10\n",
    "# H0: mu <= 10\n",
    "a = .05\n",
    "print(stats.ttest_1samp(x1,10))\n",
    "pvalue= .7239703579964251  #derived from above formula\n",
    "half = pvalue/2\n",
    "if pvalue < a :\n",
    "    print(\"reject H0\")\n",
    "else:\n",
    "    print(\"We will not reject H0\")"
   ]
  },
  {
   "cell_type": "code",
   "execution_count": 22,
   "metadata": {},
   "outputs": [
    {
     "data": {
      "text/plain": [
       "np.float64(0.35262102566795583)"
      ]
     },
     "execution_count": 22,
     "metadata": {},
     "output_type": "execute_result"
    }
   ],
   "source": [
    " stats.t.cdf(-0.384, 19)"
   ]
  },
  {
   "cell_type": "code",
   "execution_count": 28,
   "metadata": {},
   "outputs": [
    {
     "name": "stdout",
     "output_type": "stream",
     "text": [
      "0.20054513590888412\n"
     ]
    }
   ],
   "source": [
    "cdf = stats.norm.cdf(1.28) #computing p value\n",
    "p = 2*(1-cdf)\n",
    "print(p)"
   ]
  }
 ],
 "metadata": {
  "kernelspec": {
   "display_name": "Python 3",
   "language": "python",
   "name": "python3"
  },
  "language_info": {
   "codemirror_mode": {
    "name": "ipython",
    "version": 3
   },
   "file_extension": ".py",
   "mimetype": "text/x-python",
   "name": "python",
   "nbconvert_exporter": "python",
   "pygments_lexer": "ipython3",
   "version": "3.12.1"
  }
 },
 "nbformat": 4,
 "nbformat_minor": 2
}
