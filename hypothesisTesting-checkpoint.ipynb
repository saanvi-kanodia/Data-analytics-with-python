{
 "cells": [
  {
   "cell_type": "code",
   "execution_count": null,
   "metadata": {},
   "outputs": [],
   "source": [
    "import scipy\n",
    "from scipy import stats\n",
    "from scipy.stats import zmap #for calculating zscore using sd and mean and data"
   ]
  },
  {
   "cell_type": "code",
   "execution_count": null,
   "metadata": {},
   "outputs": [],
   "source": [
    "import math"
   ]
  },
  {
   "cell_type": "code",
   "execution_count": 3,
   "metadata": {},
   "outputs": [],
   "source": [
    "from scipy.stats import norm"
   ]
  },
  {
   "cell_type": "code",
   "execution_count": null,
   "metadata": {},
   "outputs": [
    {
     "name": "stdout",
     "output_type": "stream",
     "text": [
      "H0 is in rejection region\n"
     ]
    }
   ],
   "source": [
    "a = .04 \n",
    "z= 2.29\n",
    "# a = level of significance\n",
    "#finding p value below for upper tail test\n",
    "#in upper tail test : reject H0 if p<a\n",
    "p = 1-stats.norm.cdf(z)\n",
    "if p< a:\n",
    "    print(\"H0 is in rejection region\")\n",
    "else :\n",
    "    print(\"H0 is is accpeptance region\")"
   ]
  },
  {
   "cell_type": "code",
   "execution_count": 5,
   "metadata": {},
   "outputs": [
    {
     "name": "stdout",
     "output_type": "stream",
     "text": [
      "H0 is is accpeptance region\n"
     ]
    }
   ],
   "source": [
    "#in lower tail test : reject H0 if z < z_alpha\n",
    "#in upper tail test : reject H0 if z > z_alpha\n",
    "\n",
    "z1 = 0.4\n",
    "a = 0.1\n",
    "#finding z alpha value for given area\n",
    "za = stats.norm.ppf(a) #= -1.28\n",
    "if z1< za:\n",
    "    print(\"H0 is in rejection region\")\n",
    "else :\n",
    "    print(\"H0 is is accpeptance region\")\n"
   ]
  },
  {
   "cell_type": "markdown",
   "metadata": {},
   "source": [
    "### p value approach (sigma known)"
   ]
  },
  {
   "cell_type": "code",
   "execution_count": 6,
   "metadata": {},
   "outputs": [
    {
     "name": "stdout",
     "output_type": "stream",
     "text": [
      "verify if pizza shop goal <= 30 mins delivery time\n",
      "H0: mu<= 30  \n",
      "Ha: mu>30\n",
      "z score is:  1.095\n",
      "alpha is:  0.05\n",
      "p value is:  0.13675831824089646\n",
      "since p value > a \n",
      "There is not sufficent data to not accept H0\n"
     ]
    }
   ],
   "source": [
    "n = 30 #sample size\n",
    "mean = 32 # sample mean\n",
    "sigma = 10 # sd\n",
    "alpha =0.05 \n",
    "\n",
    "print(\"verify if pizza shop goal <= 30 mins delivery time\")\n",
    "# H0: mu<= 30 \n",
    "# Ha: mu>30\n",
    "# this tells that it is right tailed test. reject whatever is on right of critical value\n",
    "\n",
    "mu = 30 #population mean\n",
    "z_score = round(((mean - mu)/((sigma)/math.sqrt(n))),3)\n",
    "print(\"z score is: \",z_score)\n",
    "p = 1- stats.norm.cdf(z_score)\n",
    "print(\"alpha is: \",alpha)\n",
    "print(\"p value is: \",p)\n",
    "if p< alpha:\n",
    "    print(\"since p value < a \\nThere is sufficient data to accept Ha\")\n",
    "else :\n",
    "    print( \"since p value > a \\nThere is not sufficent data to not accept H0\")"
   ]
  },
  {
   "cell_type": "markdown",
   "metadata": {},
   "source": [
    "### Critical value approach"
   ]
  },
  {
   "cell_type": "code",
   "execution_count": null,
   "metadata": {},
   "outputs": [
    {
     "name": "stdout",
     "output_type": "stream",
     "text": [
      "critical value is: 1.645\n",
      "z score is:  1.095\n",
      "As Critical Value >= z score we do not reject H0 \n"
     ]
    }
   ],
   "source": [
    "#details taken from above problem\n",
    "z_CriticalVal = round((norm.ppf(1-alpha)), 3) #right tailed\n",
    "print(\"critical value is:\",z_CriticalVal)\n",
    "print(\"z score is: \",z_score)\n",
    "if z_CriticalVal >= z_score:\n",
    "    print (\"As Critical Value >= z score we do not reject H0 \")\n",
    "else :\n",
    "    print (\"As Critical Value < z score we do not accept H0 \")"
   ]
  },
  {
   "cell_type": "markdown",
   "metadata": {},
   "source": [
    "### 2- Tailed test for population mean(sigma known)"
   ]
  },
  {
   "cell_type": "code",
   "execution_count": null,
   "metadata": {},
   "outputs": [],
   "source": [
    "n1 = 30\n",
    "sample_mean = 505\n",
    "std_dev = 10\n",
    "significance = 0.03 \n",
    "pop_mean = 500\n",
    "\n",
    "# H0 : mu = 500\n",
    "# Ha : mu != 500\n",
    "\n",
    "z = (pop_mean-sample_mean)/(std_dev/math.sqrt(n))\n",
    "print(\"z score is: \",z)\n",
    "p = norm.cdf(z)\n",
    "if 2*p > significance:\n",
    "    print(\"Accept H0\")\n",
    "else :\n",
    "    print(\"Reject H0\")"
   ]
  }
 ],
 "metadata": {
  "kernelspec": {
   "display_name": "Python 3",
   "language": "python",
   "name": "python3"
  },
  "language_info": {
   "codemirror_mode": {
    "name": "ipython",
    "version": 3
   },
   "file_extension": ".py",
   "mimetype": "text/x-python",
   "name": "python",
   "nbconvert_exporter": "python",
   "pygments_lexer": "ipython3",
   "version": "3.12.1"
  }
 },
 "nbformat": 4,
 "nbformat_minor": 2
}
