{
 "cells": [
  {
   "cell_type": "code",
   "execution_count": 3,
   "metadata": {},
   "outputs": [],
   "source": [
    "import math\n",
    "import scipy"
   ]
  },
  {
   "cell_type": "code",
   "execution_count": 4,
   "metadata": {},
   "outputs": [],
   "source": [
    "from scipy import stats"
   ]
  },
  {
   "cell_type": "code",
   "execution_count": 5,
   "metadata": {},
   "outputs": [],
   "source": [
    "from scipy.stats import norm"
   ]
  },
  {
   "cell_type": "code",
   "execution_count": 10,
   "metadata": {},
   "outputs": [
    {
     "name": "stdout",
     "output_type": "stream",
     "text": [
      "Type II error is :  0.27292999450730004\n"
     ]
    }
   ],
   "source": [
    "def type_2 (mu1, mu2, sigma , n, alpha):\n",
    "    z = stats.norm.ppf(alpha)\n",
    "    xbar = (mu1)+(z*sigma/math.sqrt(n))\n",
    "    z2 = (xbar - mu2)/(sigma/math.sqrt(n))\n",
    "    if mu1 > mu2:\n",
    "        beta = 1-stats.norm.cdf(z2)\n",
    "    else:\n",
    "        beta = stats.norm.cdf(z2)\n",
    "    print(\"Type II error is : \", beta)\n",
    "\n",
    "type_2(8.3, 7.4, 3.1, 60, 0.05)"
   ]
  },
  {
   "cell_type": "code",
   "execution_count": null,
   "metadata": {},
   "outputs": [
    {
     "name": "stdout",
     "output_type": "stream",
     "text": [
      "Type II error is :  0.8079200023112734\n"
     ]
    }
   ],
   "source": [
    "type_2(12, 11.99, 0.1, 60, 0.05)"
   ]
  },
  {
   "cell_type": "code",
   "execution_count": 16,
   "metadata": {},
   "outputs": [
    {
     "name": "stdout",
     "output_type": "stream",
     "text": [
      "Type II error is :  0.07303790512847008\n"
     ]
    }
   ],
   "source": [
    "type_2(12, 11.96, 0.1, 60, 0.05)"
   ]
  }
 ],
 "metadata": {
  "kernelspec": {
   "display_name": "Python 3",
   "language": "python",
   "name": "python3"
  },
  "language_info": {
   "codemirror_mode": {
    "name": "ipython",
    "version": 3
   },
   "file_extension": ".py",
   "mimetype": "text/x-python",
   "name": "python",
   "nbconvert_exporter": "python",
   "pygments_lexer": "ipython3",
   "version": "3.12.1"
  },
  "orig_nbformat": 4
 },
 "nbformat": 4,
 "nbformat_minor": 2
}
