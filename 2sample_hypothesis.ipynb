{
 "cells": [
  {
   "cell_type": "code",
   "execution_count": 4,
   "metadata": {},
   "outputs": [],
   "source": [
    "import pandas as pd\n",
    "import numpy as np\n",
    "import math\n",
    "from scipy import stats"
   ]
  },
  {
   "cell_type": "markdown",
   "metadata": {},
   "source": [
    "#### sigma known"
   ]
  },
  {
   "cell_type": "code",
   "execution_count": 5,
   "metadata": {},
   "outputs": [],
   "source": [
    "def z_and_p(x1, x2,mu1,mu2, sigma1, sigma2, n1, n2):\n",
    "    z = ((x1-x2)-(mu1 - mu2))/(math.sqrt(((sigma1**2)/n1)+((sigma2**2)/n2)))\n",
    "    if (z<0):\n",
    "        p = stats.norm.cdf(z)\n",
    "    else:\n",
    "        p = 1-stats.norm.cdf(z)\n",
    "    print(z,p)\n"
   ]
  },
  {
   "cell_type": "code",
   "execution_count": 7,
   "metadata": {},
   "outputs": [
    {
     "name": "stdout",
     "output_type": "stream",
     "text": [
      "2.5155764746872635 0.00594189462107364\n"
     ]
    }
   ],
   "source": [
    "z_and_p(121, 112, 0,0,8,8,10,10)"
   ]
  },
  {
   "cell_type": "markdown",
   "metadata": {},
   "source": [
    "#### sigma unknown but equal"
   ]
  },
  {
   "cell_type": "code",
   "execution_count": null,
   "metadata": {},
   "outputs": [],
   "source": [
    "def t_and_p(a,b,alpha_half,dof):\n",
    "    t_stat, p_value = stats.ttest_ind(a,b,equal_var = True)\n",
    "    critical_val = stats.t.ppf(alpha_half,dof)\n",
    "    #print(critical_val)\n",
    "    if critical_val < 0 and t_stat < critical_val:\n",
    "        print(\"reject H0\")\n",
    "    else:\n",
    "        print(\"Accept H0\")"
   ]
  },
  {
   "cell_type": "code",
   "execution_count": 17,
   "metadata": {},
   "outputs": [
    {
     "name": "stdout",
     "output_type": "stream",
     "text": [
      "-2.1447866879169277\n",
      "Accept H0\n"
     ]
    }
   ],
   "source": [
    "b = [89.19, 90.95, 90.46, 93.21, 97.19, 97.04, 91.07, 92.75] #sample1\n",
    "a = [91.5, 94.18, 92.18, 95.39, 91.79, 89.07, 94.72, 89.21] #sample2\n",
    "t_and_p(a,b,0.025,14)"
   ]
  },
  {
   "cell_type": "code",
   "execution_count": 18,
   "metadata": {},
   "outputs": [
    {
     "data": {
      "text/plain": [
       "np.float64(-1.9599639845400545)"
      ]
     },
     "execution_count": 18,
     "metadata": {},
     "output_type": "execute_result"
    }
   ],
   "source": [
    "stats.norm.ppf(0.025)"
   ]
  }
 ],
 "metadata": {
  "kernelspec": {
   "display_name": "Python 3",
   "language": "python",
   "name": "python3"
  },
  "language_info": {
   "codemirror_mode": {
    "name": "ipython",
    "version": 3
   },
   "file_extension": ".py",
   "mimetype": "text/x-python",
   "name": "python",
   "nbconvert_exporter": "python",
   "pygments_lexer": "ipython3",
   "version": "3.12.1"
  }
 },
 "nbformat": 4,
 "nbformat_minor": 2
}
